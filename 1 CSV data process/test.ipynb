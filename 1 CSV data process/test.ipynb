{
 "cells": [
  {
   "metadata": {},
   "cell_type": "markdown",
   "source": "### 处理数据",
   "id": "a3f3fd019738c645"
  },
  {
   "metadata": {
    "ExecuteTime": {
     "end_time": "2025-10-21T02:34:36.300401Z",
     "start_time": "2025-10-21T02:33:19.291775Z"
    }
   },
   "cell_type": "code",
   "source": [
    "import pandas as pd\n",
    "\n",
    "csv_path = r\"D:\\article\\SynologyDrive\\LAI-LST-Asymmetric\\data\\outCSV\\01_matching_results\\Boreal\\Winter_mode1.csv\"\n",
    "\n",
    "df = pd.read_csv(csv_path, low_memory=False)\n",
    "# df.columns.tolist()\n",
    "df['lst_daily_diff_lai_1'] = (df['lst_day_diff_lai_1']+df['lst_night_diff_lai_1']) / 2\n",
    "df['lst_daily_diff_lai_2'] = (df['lst_day_diff_lai_2']+df['lst_night_diff_lai_2']) / 2\n",
    "\n",
    "df.to_csv(csv_path, index=False)"
   ],
   "id": "c85beb9daf13c3d3",
   "outputs": [],
   "execution_count": 12
  },
  {
   "metadata": {
    "ExecuteTime": {
     "end_time": "2025-10-21T02:48:42.293434Z",
     "start_time": "2025-10-21T02:47:27.229227Z"
    }
   },
   "cell_type": "code",
   "source": [
    "import pandas as pd\n",
    "\n",
    "csv_path = r\"D:\\article\\SynologyDrive\\LAI-LST-Asymmetric\\data\\outCSV\\01_matching_results\\Boreal\\Winter_mode1.csv\"\n",
    "\n",
    "df = pd.read_csv(csv_path, low_memory=False)\n",
    "# df.columns.tolist()\n",
    "df['hg_diff_lai_1'] = -df['sw_diff_lai_1'] - df['lw_diff_lai_1'] - df['le_diff_lai_1']\n",
    "df['hg_diff_lai_2'] = -df['sw_diff_lai_2'] - df['lw_diff_lai_2'] - df['le_diff_lai_2']\n",
    "\n",
    "df.to_csv(csv_path, index=False)"
   ],
   "id": "30b05bac75b6c114",
   "outputs": [],
   "execution_count": 14
  },
  {
   "metadata": {
    "ExecuteTime": {
     "end_time": "2025-10-21T02:23:45.665607Z",
     "start_time": "2025-10-21T02:23:35.439049Z"
    }
   },
   "cell_type": "code",
   "source": [
    "import numpy as np\n",
    "import pandas as pd\n",
    "\n",
    "# 1. 读取CSV文件\n",
    "csv_path = r'D:\\article\\SynologyDrive\\LAI-LST-Asymmetric\\data\\outCSV\\01_matching_results\\Boreal\\Winter_mode1.csv'\n",
    "\n",
    "df = pd.read_csv(csv_path)\n",
    "\n",
    "print(f\"✓ CSV文件读取成功\")\n",
    "print(f\"数据行数: {len(df)}\")\n",
    "print(f\"数据列数: {len(df.columns)}\")\n",
    "\n",
    "# 2. 查看grid_type的分布情况\n",
    "print(\"\\n=== Grid Type 分布情况 ===\")\n",
    "print(\"\\ngrid_type_1的值分布:\")\n",
    "print(df['grid_type_1'].value_counts().sort_index())\n",
    "print(\"\\ngrid_type_2的值分布:\")\n",
    "print(df['grid_type_2'].value_counts().sort_index())\n",
    "\n",
    "# 查看LAI变化区间分布(如果需要的话)\n",
    "if 'rate_range_1' in df.columns:\n",
    "    print(\"\\n=== LAI变化区间分布 ===\")\n",
    "    print(\"\\nrate_range_1分布:\")\n",
    "    print(df['rate_range_1'].value_counts())\n",
    "    print(\"\\nrate_range_2分布:\")\n",
    "    print(df['rate_range_2'].value_counts())"
   ],
   "id": "5b32078bef30305d",
   "outputs": [
    {
     "name": "stderr",
     "output_type": "stream",
     "text": [
      "C:\\Users\\liupa\\AppData\\Local\\Temp\\ipykernel_4616\\477943330.py:7: DtypeWarning: Columns (162,163) have mixed types. Specify dtype option on import or set low_memory=False.\n",
      "  df = pd.read_csv(csv_path)\n"
     ]
    },
    {
     "name": "stdout",
     "output_type": "stream",
     "text": [
      "✓ CSV文件读取成功\n",
      "数据行数: 703120\n",
      "数据列数: 190\n",
      "\n",
      "=== Grid Type 分布情况 ===\n",
      "\n",
      "grid_type_1的值分布:\n",
      "grid_type_1\n",
      "1    703120\n",
      "Name: count, dtype: int64\n",
      "\n",
      "grid_type_2的值分布:\n",
      "grid_type_2\n",
      "-1    703120\n",
      "Name: count, dtype: int64\n",
      "\n",
      "=== LAI变化区间分布 ===\n",
      "\n",
      "rate_range_1分布:\n",
      "rate_range_1\n",
      "[0.0, 0.2)    644543\n",
      "[0.2, 0.4)     56460\n",
      "[0.4, 0.6)      2092\n",
      "[0.6, 0.8)        23\n",
      "[0.8, +∞)          1\n",
      "Name: count, dtype: int64\n",
      "\n",
      "rate_range_2分布:\n",
      "rate_range_2\n",
      "[0.0, 0.2)    644543\n",
      "[0.2, 0.4)     56460\n",
      "[0.4, 0.6)      2092\n",
      "[0.6, 0.8)        23\n",
      "[0.8, +∞)          1\n",
      "Name: count, dtype: int64\n"
     ]
    }
   ],
   "execution_count": 10
  },
  {
   "metadata": {},
   "cell_type": "code",
   "source": [
    "# 3. 选择要操作的LAI变化类型\n",
    "# 选择 1 或 2，表示操作 _1 或 _2 后缀的列\n",
    "target_suffix = 2  # 修改这里: 1表示操作_1后缀的列, 2表示操作_2后缀的列\n",
    "var = \"LST_DAY\"\n",
    "\n",
    "print(f\"\\n选择操作后缀为 _{target_suffix} 的{var}列\")\n",
    "\n",
    "# 4. 根据grid_type筛选要操作的数据行(可选)\n",
    "# 如果需要只对特定grid_type的行进行操作，取消下面的注释\n",
    "use_grid_type_filter = True  # 改为True启用grid_type筛选\n",
    "target_grid_type = -1  # 选择要操作的grid_type值\n",
    "\n",
    "if use_grid_type_filter:\n",
    "    if target_suffix == 1:\n",
    "        filtered_df = df[df['grid_type_1'] == target_grid_type]\n",
    "    else:\n",
    "        filtered_df = df[df['grid_type_2'] == target_grid_type]\n",
    "    print(f\"筛选 grid_type_{target_suffix}={target_grid_type} 后的数据行数: {len(filtered_df)}\")\n",
    "else:\n",
    "    filtered_df = df  # 不筛选，对所有行操作\n",
    "    print(f\"对所有 {len(df)} 行数据进行操作\")"
   ],
   "id": "132517840c9d5c27",
   "outputs": [],
   "execution_count": null
  },
  {
   "metadata": {},
   "cell_type": "code",
   "source": [
    "# 5. 进一步根据LAI变化区间筛选(可选)\n",
    "use_rate_range_filter = False  # 是否使用LAI变化区间筛选，改为True启用\n",
    "\n",
    "if use_rate_range_filter and f'rate_range_{target_suffix}' in df.columns:\n",
    "    target_rate_range = '[0.6, 0.8)'  # 修改这里选择目标区间\n",
    "    filtered_df = filtered_df[filtered_df[f'rate_range_{target_suffix}'] == target_rate_range]\n",
    "    print(f\"进一步筛选 rate_range_{target_suffix}={target_rate_range} 后的数据行数: {len(filtered_df)}\")"
   ],
   "id": "946eb502e14e0285",
   "outputs": [],
   "execution_count": null
  },
  {
   "metadata": {},
   "cell_type": "code",
   "source": [
    "# 6. 找出指定后缀的数据列\n",
    "le_columns = [col for col in df.columns\n",
    "              if f'{var}' in col.upper()\n",
    "              and 'STD' not in col.upper()\n",
    "              and col.endswith(f'_{target_suffix}')]\n",
    "\n",
    "print(f\"\\n=== 找到的{var}相关列 (后缀为_{target_suffix}, 共{len(le_columns)}个) ===\")\n",
    "for i, col in enumerate(le_columns, 1):\n",
    "    print(f\"{i}. {col}\")\n",
    "\n",
    "# 7. 显示操作前的示例数据\n",
    "if len(filtered_df) > 0 and len(le_columns) > 0:\n",
    "    print(f\"\\n=== 操作前示例数据 ===\")\n",
    "    print(filtered_df[le_columns].head(3))"
   ],
   "id": "1c27b8f8bbcb8b6b",
   "outputs": [],
   "execution_count": null
  },
  {
   "metadata": {},
   "cell_type": "code",
   "source": [
    "# 8. 对筛选出的数据行进行操作\n",
    "for col in le_columns:\n",
    "    mask = filtered_df.index\n",
    "    # 只对非NaN的值进行操作\n",
    "    non_nan_mask = df.loc[mask, col].notna()\n",
    "    df.loc[mask[non_nan_mask], col] = df.loc[mask[non_nan_mask], col]/2\n",
    "\n",
    "print(f\"\\n✓ 已对 {len(filtered_df)} 行数据的 {len(le_columns)} 个{var}列(后缀_{target_suffix})进行处理\")\n",
    "\n",
    "# 9. 显示操作后的示例数据\n",
    "if len(filtered_df) > 0 and len(le_columns) > 0:\n",
    "    print(f\"\\n=== 操作后示例数据 ===\")\n",
    "    print(df.loc[filtered_df.index, le_columns].head(3))\n",
    "\n",
    "# 10. 保存文件\n",
    "df.to_csv(csv_path, index=False)\n",
    "print(f\"\\n✓ 数据已保存回原始CSV文件\")"
   ],
   "id": "ebffc2a37c397d3b",
   "outputs": [],
   "execution_count": null
  },
  {
   "metadata": {},
   "cell_type": "markdown",
   "source": "### 计算能量平衡参数",
   "id": "80b820d8ae284bf0"
  },
  {
   "metadata": {},
   "cell_type": "code",
   "source": [
    "import pandas as pd\n",
    "import numpy as np\n",
    "\n",
    "# 读取数据\n",
    "csv_path = r\"D:\\article\\01_matching_results\\Boreal\\Summer_mode1.csv\"\n",
    "df = pd.read_csv(csv_path)\n",
    "\n",
    "# 需要的数据列\n",
    "delta_albedo_1 = df['albedo_diff_lai_2']\n",
    "delta_albedo_2 = df['albedo_diff_lai_1']\n",
    "delta_albedo_1_std = df['albedo_diff_lai_std_2']\n",
    "delta_albedo_2_std = df['albedo_diff_lai_std_1']\n",
    "\n",
    "sw_downward_1 = df['DSR_Begin_mean_2']\n",
    "sw_downward_2 = df['DSR_Begin_mean_1']\n",
    "sw_downward_1_std = df['DSR_Begin_std_2']\n",
    "sw_downward_2_std = df['DSR_Begin_std_1']\n",
    "\n",
    "delta_le_1 = df['le_diff_lai_2']\n",
    "delta_le_2 = df['le_diff_lai_1']\n",
    "delta_le_1_std = df['le_diff_lai_std_2']\n",
    "delta_le_2_std = df['le_diff_lai_std_1']\n",
    "\n",
    "delta_lst_daily_1 = df['lst_daily_diff_lai_2']\n",
    "delta_lst_daily_2 = df['lst_daily_diff_lai_1']\n",
    "delta_lst_daily_1_std = df['lst_daily_diff_lai_std_2']\n",
    "delta_lst_daily_2_std = df['lst_daily_diff_lai_std_1']\n",
    "lst_daily_begin_1 = df['LST_Daily_Begin_mean_2'] + 273.15\n",
    "lst_daily_begin_2 = df['LST_Daily_Begin_mean_1'] + 273.15\n",
    "lst_daily_begin_1_std = df['LST_Daily_Begin_std_2'] + 273.15\n",
    "lst_daily_begin_2_std = df['LST_Daily_Begin_std_1'] + 273.15\n",
    "\n",
    "# 常量定义\n",
    "# ϵ(单位: nm)\n",
    "# σ(单位: W(m−2 K−4))\n",
    "rng = np.random.default_rng(96)\n",
    "\n",
    "epsilon_29 = np.arange(8400, 8700)\n",
    "epsilon_31 = np.arange(10780, 11280)\n",
    "epsilon_32 = np.arange(11770, 12270)\n",
    "\n",
    "sample_29 = rng.choice(epsilon_29) / 10000\n",
    "sample_31 = rng.choice(epsilon_31) / 10000\n",
    "sample_32 = rng.choice(epsilon_32) / 10000\n",
    "\n",
    "epsilon = 0.2122 * sample_29 + 0.3859 * sample_31 + 0.4029 * sample_32\n",
    "# epsilon = epsilon_array.mean()\n",
    "\n",
    "sigma = 5.67e-8"
   ],
   "id": "5e95beda99ea03e3",
   "outputs": [],
   "execution_count": null
  },
  {
   "metadata": {},
   "cell_type": "markdown",
   "source": "##### $\\Delta SW_{\\uparrow,LAI} = \\Delta \\text{albedo} \\times SW_{\\downarrow}$",
   "id": "6a20194b833e88b4"
  },
  {
   "metadata": {},
   "cell_type": "code",
   "source": [
    "delta_sw_upward_lai_1 =  delta_albedo_1 * sw_downward_1\n",
    "delta_sw_upward_lai_2 =  delta_albedo_2 * sw_downward_2\n",
    "\n",
    "delta_sw_upward_lai_1_std = delta_albedo_1_std * sw_downward_1_std\n",
    "delta_sw_upward_lai_2_std = delta_albedo_2_std * sw_downward_2_std"
   ],
   "id": "46503471b6704736",
   "outputs": [],
   "execution_count": null
  },
  {
   "metadata": {},
   "cell_type": "markdown",
   "source": "##### $\\Delta LW_{\\uparrow,LAI} = \\epsilon \\Delta LST_{LAI} \\cdot 4\\sigma LST^3$",
   "id": "8fa4b6115a692eea"
  },
  {
   "metadata": {},
   "cell_type": "code",
   "source": [
    "delta_lw_upward_lai_1 = epsilon * delta_lst_daily_1 * 4 * sigma * lst_daily_begin_1 ** 3\n",
    "delta_lw_upward_lai_2 = epsilon * delta_lst_daily_2 * 4 * sigma * lst_daily_begin_2 ** 3\n",
    "\n",
    "delta_lw_upward_lai_1_std = epsilon * delta_lst_daily_1_std * 4 * sigma * lst_daily_begin_1_std ** 3\n",
    "delta_lw_upward_lai_2_std = epsilon * delta_lst_daily_2_std * 4 * sigma * lst_daily_begin_2_std ** 3"
   ],
   "id": "763d1f2884f36cd1",
   "outputs": [],
   "execution_count": null
  },
  {
   "metadata": {},
   "cell_type": "markdown",
   "source": "##### $\\Delta(H + G)_{LAI} = -\\Delta SW_{\\uparrow,LAI} - \\Delta LW_{\\uparrow,LAI} - \\Delta LE_{LAI}$",
   "id": "adebb4a464421f6a"
  },
  {
   "metadata": {},
   "cell_type": "code",
   "source": [
    "delta_hg_lai_1 = -delta_sw_upward_lai_1 - delta_lw_upward_lai_1 - delta_le_1\n",
    "delta_hg_lai_2 = -delta_sw_upward_lai_2 - delta_lw_upward_lai_2 - delta_le_2\n",
    "\n",
    "delta_hg_lai_1_std = -delta_sw_upward_lai_1_std - delta_lw_upward_lai_1_std - delta_le_1_std\n",
    "delta_hg_lai_2_std = -delta_sw_upward_lai_2_std - delta_lw_upward_lai_2_std - delta_le_2_std"
   ],
   "id": "d5e4e18b1977781",
   "outputs": [],
   "execution_count": null
  },
  {
   "metadata": {},
   "cell_type": "code",
   "source": [
    "# 将结果写入原始数据中\n",
    "# H+G\n",
    "df['hg_diff_lai_1'] = delta_hg_lai_1\n",
    "df['hg_diff_lai_2'] = delta_hg_lai_2\n",
    "\n",
    "df['hg_diff_lai_1_std'] = delta_hg_lai_1_std\n",
    "df['hg_diff_lai_2_std'] = delta_hg_lai_2_std\n",
    "\n",
    "# SW_upward\n",
    "df['sw_diff_lai_1'] = delta_sw_upward_lai_1\n",
    "df['sw_diff_lai_2'] = delta_sw_upward_lai_2\n",
    "\n",
    "df['sw_diff_lai_1_std'] = delta_sw_upward_lai_1_std\n",
    "df['sw_diff_lai_2_std'] = delta_sw_upward_lai_2_std\n",
    "\n",
    "# LW_upward\n",
    "df['lw_diff_lai_1'] = delta_lw_upward_lai_1\n",
    "df['lw_diff_lai_2'] = delta_lw_upward_lai_2\n",
    "\n",
    "df['lw_diff_lai_1_std'] = delta_lw_upward_lai_1_std\n",
    "df['lw_diff_lai_2_std'] = delta_lw_upward_lai_2_std\n",
    "\n",
    "df.to_csv(csv_path, index=False)"
   ],
   "id": "49d3b8ed75897904",
   "outputs": [],
   "execution_count": null
  },
  {
   "metadata": {},
   "cell_type": "code",
   "source": [
    "df['hg_diff_lai_1'] = -df['sw_diff_lai_1'] - df['lw_diff_lai_1'] - delta_le_1\n",
    "df['hg_diff_lai_2'] = -df['sw_diff_lai_2'] - df['lw_diff_lai_2'] - delta_le_2\n",
    "\n",
    "df.to_csv(csv_path, index=False)"
   ],
   "id": "3443baf27d0d91f",
   "outputs": [],
   "execution_count": null
  }
 ],
 "metadata": {
  "kernelspec": {
   "display_name": "Python 3",
   "language": "python",
   "name": "python3"
  },
  "language_info": {
   "codemirror_mode": {
    "name": "ipython",
    "version": 2
   },
   "file_extension": ".py",
   "mimetype": "text/x-python",
   "name": "python",
   "nbconvert_exporter": "python",
   "pygments_lexer": "ipython2",
   "version": "2.7.6"
  }
 },
 "nbformat": 4,
 "nbformat_minor": 5
}
